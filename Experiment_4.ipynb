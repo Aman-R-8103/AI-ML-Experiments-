{
 "cells": [
  {
   "cell_type": "markdown",
   "id": "02dd26b1",
   "metadata": {},
   "source": [
    "# Experiment 4: Data Import and Export with Dataset Exploration"
   ]
  },
  {
   "cell_type": "markdown",
   "id": "4775c190",
   "metadata": {},
   "source": [
    "This experiment covers importing data with Pandas, exploring dataset properties, and calculating various summary statistics."
   ]
  },
  {
   "cell_type": "code",
   "execution_count": 12,
   "id": "269b8500",
   "metadata": {},
   "outputs": [],
   "source": [
    "import pandas as pd\n",
    "import numpy as np"
   ]
  },
  {
   "cell_type": "code",
   "execution_count": 2,
   "id": "ccc7085d",
   "metadata": {},
   "outputs": [],
   "source": [
    "# Load the dataset\n",
    "df= pd.read_csv('Titanic.csv')"
   ]
  },
  {
   "cell_type": "markdown",
   "id": "25862a87",
   "metadata": {},
   "source": [
    "## Step 1: Dataset Overview"
   ]
  },
  {
   "cell_type": "markdown",
   "id": "a65c6923",
   "metadata": {},
   "source": [
    "### ***Number of Rows and Columns***"
   ]
  },
  {
   "cell_type": "code",
   "execution_count": 3,
   "id": "0c5a8451",
   "metadata": {},
   "outputs": [
    {
     "name": "stdout",
     "output_type": "stream",
     "text": [
      "Number of rows: 1786\n",
      "Number of columns: 1\n"
     ]
    }
   ],
   "source": [
    "print(f'Number of rows: {df.shape[0]}')\n",
    "print(f'Number of columns: {df.shape[1]}')"
   ]
  },
  {
   "cell_type": "markdown",
   "id": "bdcba836",
   "metadata": {},
   "source": [
    "### ***First 5 Rows of the Dataset***"
   ]
  },
  {
   "cell_type": "code",
   "execution_count": 4,
   "id": "4d84e473",
   "metadata": {},
   "outputs": [
    {
     "data": {
      "text/html": [
       "<div>\n",
       "<style scoped>\n",
       "    .dataframe tbody tr th:only-of-type {\n",
       "        vertical-align: middle;\n",
       "    }\n",
       "\n",
       "    .dataframe tbody tr th {\n",
       "        vertical-align: top;\n",
       "    }\n",
       "\n",
       "    .dataframe thead th {\n",
       "        text-align: right;\n",
       "    }\n",
       "</style>\n",
       "<table border=\"1\" class=\"dataframe\">\n",
       "  <thead>\n",
       "    <tr style=\"text-align: right;\">\n",
       "      <th></th>\n",
       "      <th></th>\n",
       "      <th></th>\n",
       "      <th></th>\n",
       "      <th></th>\n",
       "      <th></th>\n",
       "      <th></th>\n",
       "      <th></th>\n",
       "      <th></th>\n",
       "      <th></th>\n",
       "      <th></th>\n",
       "      <th>&lt;&lt;&lt;&lt;&lt;&lt;&lt; HEAD</th>\n",
       "    </tr>\n",
       "  </thead>\n",
       "  <tbody>\n",
       "    <tr>\n",
       "      <th>﻿PassengerId</th>\n",
       "      <th>Survived</th>\n",
       "      <th>Pclass</th>\n",
       "      <th>Name</th>\n",
       "      <th>Sex</th>\n",
       "      <th>Age</th>\n",
       "      <th>SibSp</th>\n",
       "      <th>Parch</th>\n",
       "      <th>Ticket</th>\n",
       "      <th>Fare</th>\n",
       "      <th>Cabin</th>\n",
       "      <td>Embarked</td>\n",
       "    </tr>\n",
       "    <tr>\n",
       "      <th>1</th>\n",
       "      <th>0</th>\n",
       "      <th>3</th>\n",
       "      <th>Braund, Mr. Owen Harris</th>\n",
       "      <th>male</th>\n",
       "      <th>22</th>\n",
       "      <th>1</th>\n",
       "      <th>0</th>\n",
       "      <th>A/5 21171</th>\n",
       "      <th>7.25</th>\n",
       "      <th>NaN</th>\n",
       "      <td>S</td>\n",
       "    </tr>\n",
       "    <tr>\n",
       "      <th>2</th>\n",
       "      <th>1</th>\n",
       "      <th>1</th>\n",
       "      <th>Cumings, Mrs. John Bradley (Florence Briggs Thayer)</th>\n",
       "      <th>female</th>\n",
       "      <th>38</th>\n",
       "      <th>1</th>\n",
       "      <th>0</th>\n",
       "      <th>PC 17599</th>\n",
       "      <th>71.2833</th>\n",
       "      <th>C85</th>\n",
       "      <td>C</td>\n",
       "    </tr>\n",
       "    <tr>\n",
       "      <th>3</th>\n",
       "      <th>1</th>\n",
       "      <th>3</th>\n",
       "      <th>Heikkinen, Miss. Laina</th>\n",
       "      <th>female</th>\n",
       "      <th>26</th>\n",
       "      <th>0</th>\n",
       "      <th>0</th>\n",
       "      <th>STON/O2. 3101282</th>\n",
       "      <th>7.925</th>\n",
       "      <th>NaN</th>\n",
       "      <td>S</td>\n",
       "    </tr>\n",
       "    <tr>\n",
       "      <th>4</th>\n",
       "      <th>1</th>\n",
       "      <th>1</th>\n",
       "      <th>Futrelle, Mrs. Jacques Heath (Lily May Peel)</th>\n",
       "      <th>female</th>\n",
       "      <th>35</th>\n",
       "      <th>1</th>\n",
       "      <th>0</th>\n",
       "      <th>113803</th>\n",
       "      <th>53.1</th>\n",
       "      <th>C123</th>\n",
       "      <td>S</td>\n",
       "    </tr>\n",
       "  </tbody>\n",
       "</table>\n",
       "</div>"
      ],
      "text/plain": [
       "                                                                                                                                      <<<<<<< HEAD\n",
       "﻿PassengerId Survived Pclass Name                                               Sex    Age SibSp Parch Ticket           Fare    Cabin     Embarked\n",
       "1            0        3      Braund, Mr. Owen Harris                            male   22  1     0     A/5 21171        7.25    NaN              S\n",
       "2            1        1      Cumings, Mrs. John Bradley (Florence Briggs Tha... female 38  1     0     PC 17599         71.2833 C85              C\n",
       "3            1        3      Heikkinen, Miss. Laina                             female 26  0     0     STON/O2. 3101282 7.925   NaN              S\n",
       "4            1        1      Futrelle, Mrs. Jacques Heath (Lily May Peel)       female 35  1     0     113803           53.1    C123             S"
      ]
     },
     "execution_count": 4,
     "metadata": {},
     "output_type": "execute_result"
    }
   ],
   "source": [
    "df.head()"
   ]
  },
  {
   "cell_type": "markdown",
   "id": "da62955e",
   "metadata": {},
   "source": [
    "### ***Dataset Size***"
   ]
  },
  {
   "cell_type": "code",
   "execution_count": 5,
   "id": "4b88edcb",
   "metadata": {},
   "outputs": [
    {
     "name": "stdout",
     "output_type": "stream",
     "text": [
      "Size of dataset : 1786\n"
     ]
    }
   ],
   "source": [
    "print(f'Size of dataset : {df.size}')"
   ]
  },
  {
   "cell_type": "markdown",
   "id": "d7aa9e29",
   "metadata": {},
   "source": [
    "## **Step 2: Checking for Missing Values**"
   ]
  },
  {
   "cell_type": "code",
   "execution_count": 6,
   "id": "e34220a4",
   "metadata": {},
   "outputs": [
    {
     "data": {
      "text/plain": [
       "<<<<<<< HEAD    6\n",
       "dtype: int64"
      ]
     },
     "execution_count": 6,
     "metadata": {},
     "output_type": "execute_result"
    }
   ],
   "source": [
    "df.isnull().sum()"
   ]
  },
  {
   "cell_type": "markdown",
   "id": "15b0ca88",
   "metadata": {},
   "source": [
    "## Step 3: Descriptive Statistics for Numerical Columns"
   ]
  },
  {
   "cell_type": "markdown",
   "id": "3dee399a",
   "metadata": {},
   "source": [
    "### ***Sum of Numerical Columns***"
   ]
  },
  {
   "cell_type": "code",
   "execution_count": 8,
   "id": "f0b2df3f",
   "metadata": {},
   "outputs": [
    {
     "data": {
      "text/plain": [
       "Series([], dtype: float64)"
      ]
     },
     "execution_count": 8,
     "metadata": {},
     "output_type": "execute_result"
    }
   ],
   "source": [
    "df.sum(numeric_only=True)"
   ]
  },
  {
   "cell_type": "markdown",
   "id": "7f1c0528",
   "metadata": {},
   "source": [
    "### ***Average of Numerical Columns***"
   ]
  },
  {
   "cell_type": "code",
   "execution_count": 9,
   "id": "c84e527b",
   "metadata": {},
   "outputs": [
    {
     "data": {
      "text/plain": [
       "Series([], dtype: float64)"
      ]
     },
     "execution_count": 9,
     "metadata": {},
     "output_type": "execute_result"
    }
   ],
   "source": [
    "df.mean(numeric_only=True)"
   ]
  },
  {
   "cell_type": "markdown",
   "id": "e7ad6efd",
   "metadata": {},
   "source": [
    "### ***Minimum Values in Numerical Columns***"
   ]
  },
  {
   "cell_type": "code",
   "execution_count": 10,
   "id": "6919c76a",
   "metadata": {},
   "outputs": [
    {
     "data": {
      "text/plain": [
       "Series([], dtype: float64)"
      ]
     },
     "execution_count": 10,
     "metadata": {},
     "output_type": "execute_result"
    }
   ],
   "source": [
    "df.min(numeric_only=True)"
   ]
  },
  {
   "cell_type": "markdown",
   "id": "0a7ede20",
   "metadata": {},
   "source": [
    "### ***Maximum Values in Numerical Columns***"
   ]
  },
  {
   "cell_type": "code",
   "execution_count": 11,
   "id": "c9d8bc3c",
   "metadata": {},
   "outputs": [
    {
     "data": {
      "text/plain": [
       "Series([], dtype: float64)"
      ]
     },
     "execution_count": 11,
     "metadata": {},
     "output_type": "execute_result"
    }
   ],
   "source": [
    "df.max(numeric_only=True)"
   ]
  }
 ],
 "metadata": {
  "kernelspec": {
   "display_name": "Python 3",
   "language": "python",
   "name": "python3"
  },
  "language_info": {
   "codemirror_mode": {
    "name": "ipython",
    "version": 3
   },
   "file_extension": ".py",
   "mimetype": "text/x-python",
   "name": "python",
   "nbconvert_exporter": "python",
   "pygments_lexer": "ipython3",
   "version": "3.11.3"
  }
 },
 "nbformat": 4,
 "nbformat_minor": 2
}
